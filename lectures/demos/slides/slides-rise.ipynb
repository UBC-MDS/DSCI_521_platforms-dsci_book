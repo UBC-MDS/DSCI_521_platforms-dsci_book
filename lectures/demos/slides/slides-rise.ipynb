{
 "cells": [
  {
   "cell_type": "markdown",
   "id": "ec20526d-01ad-4a53-8c79-22efa56148f8",
   "metadata": {
    "editable": true,
    "slideshow": {
     "slide_type": "slide"
    },
    "tags": []
   },
   "source": [
    "# In the morning"
   ]
  },
  {
   "cell_type": "markdown",
   "id": "ed83796b-d7af-4e33-a7ea-d651bf501c10",
   "metadata": {
    "editable": true,
    "slideshow": {
     "slide_type": "subslide"
    },
    "tags": []
   },
   "source": [
    "## Getting up\n",
    "\n",
    "- Turn off alarm\n",
    "- Get out of bed"
   ]
  },
  {
   "cell_type": "markdown",
   "id": "40978543-44c7-4e29-9c57-92448de9bd22",
   "metadata": {
    "editable": true,
    "slideshow": {
     "slide_type": "subslide"
    },
    "tags": []
   },
   "source": [
    "## Breakfast\n",
    "\n",
    "- Eat eggs\n",
    "- Drink coffee"
   ]
  },
  {
   "cell_type": "markdown",
   "id": "9b25cf91-bbff-4d6a-9c5e-5c48383a22db",
   "metadata": {
    "editable": true,
    "slideshow": {
     "slide_type": "slide"
    },
    "tags": []
   },
   "source": [
    "# In the evening"
   ]
  },
  {
   "cell_type": "markdown",
   "id": "7b71ef5c-5bc2-4dd0-8a95-1eaf3bee57b5",
   "metadata": {
    "editable": true,
    "slideshow": {
     "slide_type": "subslide"
    },
    "tags": []
   },
   "source": [
    "## Dinner\n",
    "\n",
    "- Eat spaghetti\n",
    "- Drink wine"
   ]
  },
  {
   "cell_type": "markdown",
   "id": "8b8c3266-2324-4ef0-b1a6-70cfe1722e85",
   "metadata": {
    "editable": true,
    "slideshow": {
     "slide_type": "subslide"
    },
    "tags": []
   },
   "source": [
    "## Going to sleep\n",
    "\n",
    "- Get in bed\n",
    "- Count sheep\n"
   ]
  }
 ],
 "metadata": {
  "kernelspec": {
   "display_name": "Python 3 (ipykernel)",
   "language": "python",
   "name": "python3"
  },
  "language_info": {
   "codemirror_mode": {
    "name": "ipython",
    "version": 3
   },
   "file_extension": ".py",
   "mimetype": "text/x-python",
   "name": "python",
   "nbconvert_exporter": "python",
   "pygments_lexer": "ipython3",
   "version": "3.11.9"
  }
 },
 "nbformat": 4,
 "nbformat_minor": 5
}
